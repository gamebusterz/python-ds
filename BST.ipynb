{
 "cells": [
  {
   "cell_type": "code",
   "execution_count": 193,
   "metadata": {
    "collapsed": true
   },
   "outputs": [],
   "source": [
    "class Node(object):\n",
    "    def __init__(self,value,left=None,right=None):\n",
    "        self.value = value\n",
    "        self.left = left\n",
    "        self.right = right"
   ]
  },
  {
   "cell_type": "code",
   "execution_count": 194,
   "metadata": {
    "collapsed": false
   },
   "outputs": [],
   "source": [
    "class BST(object):\n",
    "    def __init__(self,head=None):\n",
    "        self.head=head\n",
    "    \n",
    "    def wrapperAddNodeToBST(self,node):\n",
    "        return self.addNodeToBST(self.head,node)\n",
    "    \n",
    "    def wrapperPrintBST(self,order):\n",
    "        if order == 'inorder':\n",
    "            self.printBSTInorder(self.head)\n",
    "        elif order == 'preorder':\n",
    "            self.printBSTPreorder(self.head)\n",
    "        elif order == 'postorder':\n",
    "            self.printBSTPostorder(self.head)\n",
    "    \n",
    "    def addNodeToBST(self,currentNode,newNode):\n",
    "        if self.head == None:\n",
    "            self.head = newNode\n",
    "            \n",
    "#         if currentNode == None:\n",
    "#             print('Current node is None')\n",
    "#             print('Adding:'+str(newNode.value))\n",
    "#             currentNode = newNode\n",
    "#             #print('self.head:'+str(self.head.value))\n",
    "#             print('currentNode:'+str(currentNode.value)) \n",
    "        else:    \n",
    "            if newNode.value > currentNode.value:\n",
    "                print('Called right node')\n",
    "                if currentNode.right == None:\n",
    "                    currentNode.right = newNode\n",
    "                else:\n",
    "                    self.addNodeToBST(currentNode.right,newNode)\n",
    "            elif newNode.value <= currentNode.value:\n",
    "                print('Called left node')\n",
    "                if currentNode.left == None:\n",
    "                    currentNode.left = newNode\n",
    "                else:\n",
    "                    self.addNodeToBST(currentNode.left,newNode)\n",
    "            \n",
    "    def printBSTPreorder(self,head):\n",
    "        if head == None:\n",
    "            return\n",
    "        print(head.value)\n",
    "        self.printBSTPreorder(head.left)\n",
    "        self.printBSTPreorder(head.right)\n",
    "        \n",
    "    def printBSTInorder(self,head):\n",
    "        if head == None:\n",
    "            return\n",
    "        self.printBSTInorder(head.left)\n",
    "        print(head.value)\n",
    "        self.printBSTInorder(head.right)\n",
    "    \n",
    "    def printBSTPostorder(self,head):\n",
    "        if head == None:\n",
    "            return\n",
    "        self.printBSTInorder(head.left)\n",
    "        self.printBSTInorder(head.right)\n",
    "        print(head.value)"
   ]
  },
  {
   "cell_type": "code",
   "execution_count": 195,
   "metadata": {
    "collapsed": true
   },
   "outputs": [],
   "source": [
    "n1 = Node(8)"
   ]
  },
  {
   "cell_type": "code",
   "execution_count": 196,
   "metadata": {
    "collapsed": true
   },
   "outputs": [],
   "source": [
    "n2 = Node(2)"
   ]
  },
  {
   "cell_type": "code",
   "execution_count": 197,
   "metadata": {
    "collapsed": false
   },
   "outputs": [],
   "source": [
    "n3 = Node(9)"
   ]
  },
  {
   "cell_type": "code",
   "execution_count": 198,
   "metadata": {
    "collapsed": true
   },
   "outputs": [],
   "source": [
    "n4 = Node(10)"
   ]
  },
  {
   "cell_type": "code",
   "execution_count": 199,
   "metadata": {
    "collapsed": true
   },
   "outputs": [],
   "source": [
    "n5 = Node(1)"
   ]
  },
  {
   "cell_type": "code",
   "execution_count": 200,
   "metadata": {
    "collapsed": true
   },
   "outputs": [],
   "source": [
    "n6 = Node(6)"
   ]
  },
  {
   "cell_type": "code",
   "execution_count": 201,
   "metadata": {
    "collapsed": true
   },
   "outputs": [],
   "source": [
    "n7 = Node(0)"
   ]
  },
  {
   "cell_type": "code",
   "execution_count": 202,
   "metadata": {
    "collapsed": true
   },
   "outputs": [],
   "source": [
    "n8 = Node(10)"
   ]
  },
  {
   "cell_type": "code",
   "execution_count": 203,
   "metadata": {
    "collapsed": true
   },
   "outputs": [],
   "source": [
    "bst = BST()"
   ]
  },
  {
   "cell_type": "code",
   "execution_count": 204,
   "metadata": {
    "collapsed": false
   },
   "outputs": [],
   "source": [
    "bst.wrapperAddNodeToBST(n1)"
   ]
  },
  {
   "cell_type": "code",
   "execution_count": 205,
   "metadata": {
    "collapsed": false
   },
   "outputs": [
    {
     "name": "stdout",
     "output_type": "stream",
     "text": [
      "Called left node\n"
     ]
    }
   ],
   "source": [
    "bst.wrapperAddNodeToBST(n2)"
   ]
  },
  {
   "cell_type": "code",
   "execution_count": 206,
   "metadata": {
    "collapsed": false
   },
   "outputs": [
    {
     "name": "stdout",
     "output_type": "stream",
     "text": [
      "Called right node\n"
     ]
    }
   ],
   "source": [
    "bst.wrapperAddNodeToBST(n3)"
   ]
  },
  {
   "cell_type": "code",
   "execution_count": 207,
   "metadata": {
    "collapsed": false
   },
   "outputs": [
    {
     "name": "stdout",
     "output_type": "stream",
     "text": [
      "Called right node\n",
      "Called right node\n"
     ]
    }
   ],
   "source": [
    "bst.wrapperAddNodeToBST(n4)"
   ]
  },
  {
   "cell_type": "code",
   "execution_count": 208,
   "metadata": {
    "collapsed": false
   },
   "outputs": [
    {
     "name": "stdout",
     "output_type": "stream",
     "text": [
      "Called left node\n",
      "Called left node\n"
     ]
    }
   ],
   "source": [
    "bst.wrapperAddNodeToBST(n5)"
   ]
  },
  {
   "cell_type": "code",
   "execution_count": 209,
   "metadata": {
    "collapsed": false
   },
   "outputs": [
    {
     "name": "stdout",
     "output_type": "stream",
     "text": [
      "Called left node\n",
      "Called right node\n"
     ]
    }
   ],
   "source": [
    "bst.wrapperAddNodeToBST(n6)"
   ]
  },
  {
   "cell_type": "code",
   "execution_count": 210,
   "metadata": {
    "collapsed": false
   },
   "outputs": [
    {
     "name": "stdout",
     "output_type": "stream",
     "text": [
      "Called left node\n",
      "Called left node\n",
      "Called left node\n"
     ]
    }
   ],
   "source": [
    "bst.wrapperAddNodeToBST(n7)"
   ]
  },
  {
   "cell_type": "code",
   "execution_count": 211,
   "metadata": {
    "collapsed": false
   },
   "outputs": [
    {
     "name": "stdout",
     "output_type": "stream",
     "text": [
      "Called right node\n",
      "Called right node\n",
      "Called left node\n"
     ]
    }
   ],
   "source": [
    "bst.wrapperAddNodeToBST(n8)"
   ]
  },
  {
   "cell_type": "code",
   "execution_count": null,
   "metadata": {
    "collapsed": true
   },
   "outputs": [],
   "source": []
  },
  {
   "cell_type": "code",
   "execution_count": 212,
   "metadata": {
    "collapsed": false
   },
   "outputs": [
    {
     "name": "stdout",
     "output_type": "stream",
     "text": [
      "8\n",
      "2\n",
      "1\n",
      "0\n",
      "6\n",
      "9\n",
      "10\n",
      "10\n"
     ]
    }
   ],
   "source": [
    "bst.wrapperPrintBST('preorder')"
   ]
  },
  {
   "cell_type": "code",
   "execution_count": 213,
   "metadata": {
    "collapsed": false
   },
   "outputs": [
    {
     "name": "stdout",
     "output_type": "stream",
     "text": [
      "0\n",
      "1\n",
      "2\n",
      "6\n",
      "8\n",
      "9\n",
      "10\n",
      "10\n"
     ]
    }
   ],
   "source": [
    "bst.wrapperPrintBST('inorder')"
   ]
  },
  {
   "cell_type": "code",
   "execution_count": 188,
   "metadata": {
    "collapsed": false
   },
   "outputs": [
    {
     "data": {
      "text/plain": [
       "8"
      ]
     },
     "execution_count": 188,
     "metadata": {},
     "output_type": "execute_result"
    }
   ],
   "source": [
    "bst.head.value"
   ]
  },
  {
   "cell_type": "code",
   "execution_count": 80,
   "metadata": {
    "collapsed": false
   },
   "outputs": [],
   "source": [
    "bst = BST()"
   ]
  },
  {
   "cell_type": "code",
   "execution_count": 93,
   "metadata": {
    "collapsed": false
   },
   "outputs": [],
   "source": [
    "bst.head = n1"
   ]
  },
  {
   "cell_type": "code",
   "execution_count": 94,
   "metadata": {
    "collapsed": false
   },
   "outputs": [],
   "source": [
    "bst.head.left = n2"
   ]
  },
  {
   "cell_type": "code",
   "execution_count": 95,
   "metadata": {
    "collapsed": true
   },
   "outputs": [],
   "source": [
    "bst.head.right = n3"
   ]
  },
  {
   "cell_type": "code",
   "execution_count": 96,
   "metadata": {
    "collapsed": false
   },
   "outputs": [
    {
     "data": {
      "text/plain": [
       "9"
      ]
     },
     "execution_count": 96,
     "metadata": {},
     "output_type": "execute_result"
    }
   ],
   "source": [
    "bst.head.right.value"
   ]
  },
  {
   "cell_type": "code",
   "execution_count": 97,
   "metadata": {
    "collapsed": false
   },
   "outputs": [
    {
     "data": {
      "text/plain": [
       "2"
      ]
     },
     "execution_count": 97,
     "metadata": {},
     "output_type": "execute_result"
    }
   ],
   "source": [
    "bst.head.left.value"
   ]
  },
  {
   "cell_type": "code",
   "execution_count": 159,
   "metadata": {
    "collapsed": false
   },
   "outputs": [
    {
     "name": "stdout",
     "output_type": "stream",
     "text": [
      "8\n"
     ]
    }
   ],
   "source": [
    "bst.wrapperPrintBST('inorder')"
   ]
  },
  {
   "cell_type": "code",
   "execution_count": null,
   "metadata": {
    "collapsed": true
   },
   "outputs": [],
   "source": []
  }
 ],
 "metadata": {
  "kernelspec": {
   "display_name": "Python 2",
   "language": "python",
   "name": "python2"
  },
  "language_info": {
   "codemirror_mode": {
    "name": "ipython",
    "version": 2
   },
   "file_extension": ".py",
   "mimetype": "text/x-python",
   "name": "python",
   "nbconvert_exporter": "python",
   "pygments_lexer": "ipython2",
   "version": "2.7.12"
  }
 },
 "nbformat": 4,
 "nbformat_minor": 1
}
