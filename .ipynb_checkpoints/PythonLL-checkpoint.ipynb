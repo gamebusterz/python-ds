{
 "cells": [
  {
   "cell_type": "markdown",
   "metadata": {},
   "source": [
    "Class definition of a Node, which has a `value` to store values and `next` to store the address of the next Node in the list"
   ]
  },
  {
   "cell_type": "code",
   "execution_count": 239,
   "metadata": {
    "collapsed": true
   },
   "outputs": [],
   "source": [
    "class Node(object):\n",
    "    def __init__(self,value):\n",
    "        self.value = value\n",
    "        self.next = None"
   ]
  },
  {
   "cell_type": "markdown",
   "metadata": {},
   "source": [
    "Class definition of the LinkedList. It only consists of a single data element `head`, which stores the address of the HEAD node i.e the first node of the LinkedList. If the LinkedList is empty, `head` is assigned to `None`."
   ]
  },
  {
   "cell_type": "code",
   "execution_count": 240,
   "metadata": {
    "collapsed": false
   },
   "outputs": [],
   "source": [
    "class LinkedList(object):\n",
    "    def __init__(self):\n",
    "        self.head = None\n",
    "        \n",
    "    def addNodeAtEnd(self,node):\n",
    "        current = self.head\n",
    "        if self.head: # if current: also works\n",
    "            while(current.next):\n",
    "                current = current.next\n",
    "            current.next = node\n",
    "        else:\n",
    "            self.head = node\n",
    "            \n",
    "    def printList(self):\n",
    "        current = self.head\n",
    "        while(current):\n",
    "            print(current.value)\n",
    "            current=current.next\n",
    "    \n",
    "    def addNodeAtStart(self,node):\n",
    "        temp = self.head\n",
    "        self.head = node\n",
    "        node.next = temp\n",
    "        \n",
    "    def removeLastNode(self):\n",
    "        if self.head:\n",
    "            current = self.head\n",
    "            if current.next:\n",
    "                while(current.next):\n",
    "                    temp = current\n",
    "                    current = current.next\n",
    "                print('Deleting %s' %(current.value))\n",
    "                temp.next = None\n",
    "            else:\n",
    "                print('Deleting %s' %(current.value))\n",
    "                self.head = current.next\n",
    "        else:\n",
    "            print('List already empty')\n",
    "            \n",
    "    def removeFirstNode(self):\n",
    "        if self.head:\n",
    "            current = self.head\n",
    "            print('Deleting %s' %(current.value))\n",
    "            self.head = current.next\n",
    "        else:\n",
    "            print('List already empty')\n",
    "    \n",
    "    def lenList(self):\n",
    "        if self.head:\n",
    "            count = 0\n",
    "            current = self.head\n",
    "            while(current):\n",
    "                count += 1\n",
    "                current = current.next\n",
    "            return count\n",
    "        else:\n",
    "            return 0\n",
    "        \n",
    "    def findNodeByPosition(self,position):\n",
    "        if self.head:\n",
    "            current = self.head\n",
    "            #positions in LinkedList are assumed to be 1-indexed\n",
    "            counter = 1\n",
    "            while(counter <= position and current):\n",
    "                if counter == position:\n",
    "                    return current.value\n",
    "                counter += 1\n",
    "                current = current.next\n",
    "        else:\n",
    "            return None\n",
    "    \n",
    "    def findNodeByValue(self,value):\n",
    "        if self.head:\n",
    "            current = self.head\n",
    "            counter = 1\n",
    "            while(current):\n",
    "                if current.value == value:\n",
    "                    return counter\n",
    "                counter += 1\n",
    "                current = current.next\n",
    "        else:\n",
    "            return None\n",
    "        \n",
    "    def addNodeAtPosition(self,node,position):\n",
    "        if self.head:\n",
    "            # if position = 0, add node to the head of the list before the first node\n",
    "            if position == 0:\n",
    "                node.next = self.head\n",
    "                self.head = node\n",
    "            else:\n",
    "                current = self.head\n",
    "                counter = 1\n",
    "                while(counter <= position and current):\n",
    "                    if counter == position:\n",
    "                        node.next = current.next\n",
    "                        current.next = node\n",
    "                    counter += 1\n",
    "                    current = current.next           \n",
    "        else:\n",
    "            # if position = 0, add node to the head of the list\n",
    "            if position == 0:\n",
    "                node.next = self.head\n",
    "                self.head = node\n",
    "            else:\n",
    "                print(\"Can't find position\")\n",
    "                \n",
    "    def deleteNodeAtPosition(self,position):\n",
    "        if self.head:\n",
    "            current = self.head\n",
    "            if position == 1:\n",
    "                self.head = current.next\n",
    "                current.next = None\n",
    "            else:\n",
    "                counter = 1\n",
    "                while(counter <= position and current):\n",
    "                    if counter+1 == position and current.next:\n",
    "                        temp = current\n",
    "                        current = current.next\n",
    "                        temp.next = current.next\n",
    "                        current.next = None\n",
    "                    counter += 1\n",
    "                    current = current.next\n",
    "        else:\n",
    "            print(\"Can't find position\")\n",
    "    \n",
    "    def reverseListIteratively(self):\n",
    "        if self.head:\n",
    "            current = self.head\n",
    "            prev = None\n",
    "            while(current):\n",
    "                nextnode = current.next\n",
    "                current.next = prev\n",
    "                prev = current\n",
    "                current = nextnode\n",
    "            self.head = prev\n",
    "        else:\n",
    "            return None\n",
    "    \n",
    "    def reverseListRecursively(self,head):\n",
    "        if head.next is None:\n",
    "            self.head = head\n",
    "            return\n",
    "        self.reverseListRecursively(head.next)\n",
    "        temp = head.next\n",
    "        temp.next = head\n",
    "        head.next = None\n",
    "                \n",
    "    def wrapperReverseListRecursively(self):\n",
    "        if self.head:\n",
    "            return self.reverseListRecursively(self.head)\n",
    "        "
   ]
  },
  {
   "cell_type": "code",
   "execution_count": 241,
   "metadata": {
    "collapsed": true
   },
   "outputs": [],
   "source": [
    "e1 = Node(1)"
   ]
  },
  {
   "cell_type": "code",
   "execution_count": 220,
   "metadata": {
    "collapsed": false
   },
   "outputs": [],
   "source": [
    "e2 = Node(2)"
   ]
  },
  {
   "cell_type": "code",
   "execution_count": 221,
   "metadata": {
    "collapsed": true
   },
   "outputs": [],
   "source": [
    "e3 = Node(3)"
   ]
  },
  {
   "cell_type": "code",
   "execution_count": 222,
   "metadata": {
    "collapsed": true
   },
   "outputs": [],
   "source": [
    "e4 = Node(4)"
   ]
  },
  {
   "cell_type": "code",
   "execution_count": 223,
   "metadata": {
    "collapsed": true
   },
   "outputs": [],
   "source": [
    "e5 = Node(5)"
   ]
  },
  {
   "cell_type": "code",
   "execution_count": 242,
   "metadata": {
    "collapsed": true
   },
   "outputs": [],
   "source": [
    "ll = LinkedList()"
   ]
  },
  {
   "cell_type": "code",
   "execution_count": 225,
   "metadata": {
    "collapsed": false,
    "scrolled": false
   },
   "outputs": [],
   "source": [
    "ll.addNodeAtEnd(e1)"
   ]
  },
  {
   "cell_type": "code",
   "execution_count": 226,
   "metadata": {
    "collapsed": false
   },
   "outputs": [],
   "source": [
    "ll.addNodeAtEnd(e2)"
   ]
  },
  {
   "cell_type": "code",
   "execution_count": 227,
   "metadata": {
    "collapsed": false
   },
   "outputs": [],
   "source": [
    "ll.addNodeAtEnd(e3)"
   ]
  },
  {
   "cell_type": "code",
   "execution_count": 228,
   "metadata": {
    "collapsed": true
   },
   "outputs": [],
   "source": [
    "ll.addNodeAtEnd(e4)"
   ]
  },
  {
   "cell_type": "code",
   "execution_count": 229,
   "metadata": {
    "collapsed": true
   },
   "outputs": [],
   "source": [
    "ll.addNodeAtEnd(e5)"
   ]
  },
  {
   "cell_type": "code",
   "execution_count": 243,
   "metadata": {
    "collapsed": false
   },
   "outputs": [],
   "source": [
    "ll.printList()"
   ]
  },
  {
   "cell_type": "code",
   "execution_count": 23,
   "metadata": {
    "collapsed": false
   },
   "outputs": [],
   "source": [
    "ll.deleteNodeAtPosition(5)"
   ]
  },
  {
   "cell_type": "code",
   "execution_count": 244,
   "metadata": {
    "collapsed": false
   },
   "outputs": [],
   "source": [
    "ll.head"
   ]
  },
  {
   "cell_type": "code",
   "execution_count": 245,
   "metadata": {
    "collapsed": false
   },
   "outputs": [],
   "source": [
    "ll.wrapperReverseListRecursively()"
   ]
  },
  {
   "cell_type": "code",
   "execution_count": null,
   "metadata": {
    "collapsed": true
   },
   "outputs": [],
   "source": []
  },
  {
   "cell_type": "code",
   "execution_count": 68,
   "metadata": {
    "collapsed": true
   },
   "outputs": [],
   "source": [
    "e_1 = Node(-1)"
   ]
  },
  {
   "cell_type": "code",
   "execution_count": 69,
   "metadata": {
    "collapsed": false
   },
   "outputs": [],
   "source": [
    "ll.addNodeAtPosition(e_1,0)"
   ]
  },
  {
   "cell_type": "code",
   "execution_count": 71,
   "metadata": {
    "collapsed": true
   },
   "outputs": [],
   "source": [
    "e_2 = Node(-2)"
   ]
  },
  {
   "cell_type": "code",
   "execution_count": 72,
   "metadata": {
    "collapsed": true
   },
   "outputs": [],
   "source": [
    "ll.addNodeAtPosition(e_2,1)"
   ]
  },
  {
   "cell_type": "code",
   "execution_count": 77,
   "metadata": {
    "collapsed": false
   },
   "outputs": [
    {
     "name": "stdout",
     "output_type": "stream",
     "text": [
      "-1\n",
      "-2\n",
      "1\n",
      "2\n",
      "3\n",
      "0\n"
     ]
    }
   ],
   "source": [
    "ll.printList()"
   ]
  },
  {
   "cell_type": "code",
   "execution_count": 75,
   "metadata": {
    "collapsed": true
   },
   "outputs": [],
   "source": [
    "e0 = Node(0)"
   ]
  },
  {
   "cell_type": "code",
   "execution_count": 76,
   "metadata": {
    "collapsed": false
   },
   "outputs": [],
   "source": [
    "ll.addNodeAtPosition(e0,5)"
   ]
  },
  {
   "cell_type": "code",
   "execution_count": 158,
   "metadata": {
    "collapsed": true
   },
   "outputs": [],
   "source": [
    "ll.addNodeAtStart(e0)"
   ]
  },
  {
   "cell_type": "code",
   "execution_count": 159,
   "metadata": {
    "collapsed": false
   },
   "outputs": [
    {
     "data": {
      "text/plain": [
       "4"
      ]
     },
     "execution_count": 159,
     "metadata": {},
     "output_type": "execute_result"
    }
   ],
   "source": [
    "ll.lenList()"
   ]
  },
  {
   "cell_type": "code",
   "execution_count": 160,
   "metadata": {
    "collapsed": false
   },
   "outputs": [
    {
     "name": "stdout",
     "output_type": "stream",
     "text": [
      "0\n",
      "1\n",
      "2\n",
      "3\n"
     ]
    }
   ],
   "source": [
    "ll.printList()"
   ]
  },
  {
   "cell_type": "code",
   "execution_count": 161,
   "metadata": {
    "collapsed": true
   },
   "outputs": [],
   "source": [
    "e_1 = Node(-1)"
   ]
  },
  {
   "cell_type": "code",
   "execution_count": 162,
   "metadata": {
    "collapsed": true
   },
   "outputs": [],
   "source": [
    "ll.addNodeAtStart(e_1)"
   ]
  },
  {
   "cell_type": "code",
   "execution_count": 163,
   "metadata": {
    "collapsed": false
   },
   "outputs": [
    {
     "name": "stdout",
     "output_type": "stream",
     "text": [
      "-1\n",
      "0\n",
      "1\n",
      "2\n",
      "3\n"
     ]
    }
   ],
   "source": [
    "ll.printList()"
   ]
  },
  {
   "cell_type": "code",
   "execution_count": 164,
   "metadata": {
    "collapsed": false
   },
   "outputs": [
    {
     "data": {
      "text/plain": [
       "-1"
      ]
     },
     "execution_count": 164,
     "metadata": {},
     "output_type": "execute_result"
    }
   ],
   "source": [
    "ll.findNodeByPosition(1)"
   ]
  },
  {
   "cell_type": "code",
   "execution_count": 165,
   "metadata": {
    "collapsed": false
   },
   "outputs": [],
   "source": [
    "ll.findNodeByPosition(6)"
   ]
  },
  {
   "cell_type": "code",
   "execution_count": 166,
   "metadata": {
    "collapsed": false
   },
   "outputs": [],
   "source": [
    "ll.findNodeByValue(-2)"
   ]
  },
  {
   "cell_type": "code",
   "execution_count": 167,
   "metadata": {
    "collapsed": true
   },
   "outputs": [],
   "source": [
    "ll.findNodeByValue(45)"
   ]
  },
  {
   "cell_type": "code",
   "execution_count": 168,
   "metadata": {
    "collapsed": false
   },
   "outputs": [
    {
     "name": "stdout",
     "output_type": "stream",
     "text": [
      "Deleting 3\n"
     ]
    }
   ],
   "source": [
    "ll.removeLastNode()"
   ]
  },
  {
   "cell_type": "code",
   "execution_count": 169,
   "metadata": {
    "collapsed": false
   },
   "outputs": [
    {
     "name": "stdout",
     "output_type": "stream",
     "text": [
      "-1\n",
      "0\n",
      "1\n",
      "2\n"
     ]
    }
   ],
   "source": [
    "ll.printList()"
   ]
  },
  {
   "cell_type": "code",
   "execution_count": 170,
   "metadata": {
    "collapsed": false
   },
   "outputs": [
    {
     "name": "stdout",
     "output_type": "stream",
     "text": [
      "Deleting 2\n"
     ]
    }
   ],
   "source": [
    "ll.removeLastNode()"
   ]
  },
  {
   "cell_type": "code",
   "execution_count": 171,
   "metadata": {
    "collapsed": false
   },
   "outputs": [
    {
     "name": "stdout",
     "output_type": "stream",
     "text": [
      "-1\n",
      "0\n",
      "1\n"
     ]
    }
   ],
   "source": [
    "ll.printList()"
   ]
  },
  {
   "cell_type": "code",
   "execution_count": 172,
   "metadata": {
    "collapsed": false
   },
   "outputs": [
    {
     "name": "stdout",
     "output_type": "stream",
     "text": [
      "Deleting -1\n"
     ]
    }
   ],
   "source": [
    "ll.removeFirstNode()"
   ]
  },
  {
   "cell_type": "code",
   "execution_count": 173,
   "metadata": {
    "collapsed": false
   },
   "outputs": [
    {
     "name": "stdout",
     "output_type": "stream",
     "text": [
      "0\n",
      "1\n"
     ]
    }
   ],
   "source": [
    "ll.printList()"
   ]
  },
  {
   "cell_type": "code",
   "execution_count": 174,
   "metadata": {
    "collapsed": false
   },
   "outputs": [],
   "source": [
    "e_2 = Node(-2)"
   ]
  },
  {
   "cell_type": "code",
   "execution_count": 175,
   "metadata": {
    "collapsed": true
   },
   "outputs": [],
   "source": [
    "ll.addNodeAtPosition(e_2,0)"
   ]
  },
  {
   "cell_type": "code",
   "execution_count": 183,
   "metadata": {
    "collapsed": false
   },
   "outputs": [
    {
     "name": "stdout",
     "output_type": "stream",
     "text": [
      "-3\n",
      "-2\n",
      "0\n",
      "1\n",
      "4\n"
     ]
    }
   ],
   "source": [
    "ll.printList()"
   ]
  },
  {
   "cell_type": "code",
   "execution_count": 181,
   "metadata": {
    "collapsed": true
   },
   "outputs": [],
   "source": [
    "e4 = Node(4)"
   ]
  },
  {
   "cell_type": "code",
   "execution_count": 182,
   "metadata": {
    "collapsed": false
   },
   "outputs": [],
   "source": [
    "ll.addNodeAtPosition(e4,4)"
   ]
  },
  {
   "cell_type": "code",
   "execution_count": 144,
   "metadata": {
    "collapsed": false
   },
   "outputs": [
    {
     "name": "stdout",
     "output_type": "stream",
     "text": [
      "-2\n",
      "0\n",
      "1\n"
     ]
    }
   ],
   "source": []
  },
  {
   "cell_type": "code",
   "execution_count": null,
   "metadata": {
    "collapsed": true
   },
   "outputs": [],
   "source": []
  }
 ],
 "metadata": {
  "kernelspec": {
   "display_name": "Python 2",
   "language": "python",
   "name": "python2"
  },
  "language_info": {
   "codemirror_mode": {
    "name": "ipython",
    "version": 2
   },
   "file_extension": ".py",
   "mimetype": "text/x-python",
   "name": "python",
   "nbconvert_exporter": "python",
   "pygments_lexer": "ipython2",
   "version": "2.7.12"
  }
 },
 "nbformat": 4,
 "nbformat_minor": 1
}
