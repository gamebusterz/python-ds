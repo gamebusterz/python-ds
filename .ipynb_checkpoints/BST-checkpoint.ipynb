{
 "cells": [
  {
   "cell_type": "code",
   "execution_count": null,
   "metadata": {
    "collapsed": true
   },
   "outputs": [],
   "source": [
    "import sys"
   ]
  },
  {
   "cell_type": "code",
   "execution_count": 24,
   "metadata": {
    "collapsed": true
   },
   "outputs": [],
   "source": [
    "class Node(object):\n",
    "    def __init__(self,value,left=None,right=None):\n",
    "        self.value = value\n",
    "        self.left = left\n",
    "        self.right = right"
   ]
  },
  {
   "cell_type": "code",
   "execution_count": 25,
   "metadata": {
    "collapsed": false
   },
   "outputs": [],
   "source": [
    "class BST(object):\n",
    "    def __init__(self,head=None):\n",
    "        self.head=head\n",
    "    \n",
    "    def wrapperAddNodeToBST(self,node):\n",
    "        return self.addNodeToBST(self.head,node)\n",
    "    \n",
    "    def wrapperPrintBST(self,order):\n",
    "        if order == 'inorder':\n",
    "            self.printBSTInorder(self.head)\n",
    "        elif order == 'preorder':\n",
    "            self.printBSTPreorder(self.head)\n",
    "        elif order == 'postorder':\n",
    "            self.printBSTPostorder(self.head)\n",
    "    \n",
    "#     def wrapperDeleteNodeFromBST(self,value):\n",
    "#         return self.deleteNodeFromBST(self.head,value)\n",
    "    def wrapperFindMax(self):\n",
    "        return self.findMax(self.head)\n",
    "        \n",
    "    def findMax(self,head):\n",
    "        if head == None:\n",
    "            return\n",
    "        else:\n",
    "            while(head.right):\n",
    "                head = head.right\n",
    "            return head.value\n",
    "        \n",
    "#     def findPath(self,node):\n",
    "        \n",
    "    \n",
    "    def addNodeToBST(self,currentNode,newNode):\n",
    "        if self.head == None:\n",
    "            self.head = newNode\n",
    "        else:    \n",
    "            if newNode.value > currentNode.value:\n",
    "                print('Called right node')\n",
    "                if currentNode.right == None:\n",
    "                    currentNode.right = newNode\n",
    "                else:\n",
    "                    self.addNodeToBST(currentNode.right,newNode)\n",
    "            elif newNode.value <= currentNode.value:\n",
    "                print('Called left node')\n",
    "                if currentNode.left == None:\n",
    "                    currentNode.left = newNode\n",
    "                else:\n",
    "                    self.addNodeToBST(currentNode.left,newNode)\n",
    "        \n",
    "#     def deleteNodeFromBST(self,value):\n",
    "        \n",
    "    \n",
    "    def printBSTPreorder(self,head):\n",
    "        if head == None:\n",
    "            return\n",
    "        print(head.value)\n",
    "        self.printBSTPreorder(head.left)\n",
    "        self.printBSTPreorder(head.right)\n",
    "        \n",
    "    def printBSTInorder(self,head):\n",
    "        if head == None:\n",
    "            return\n",
    "        self.printBSTInorder(head.left)\n",
    "        print(head.value)\n",
    "        self.printBSTInorder(head.right)\n",
    "    \n",
    "    def printBSTPostorder(self,head):\n",
    "        if head == None:\n",
    "            return\n",
    "        self.printBSTInorder(head.left)\n",
    "        self.printBSTInorder(head.right)\n",
    "        print(head.value)"
   ]
  },
  {
   "cell_type": "code",
   "execution_count": 26,
   "metadata": {
    "collapsed": true
   },
   "outputs": [],
   "source": [
    "bst = BST()"
   ]
  },
  {
   "cell_type": "code",
   "execution_count": 27,
   "metadata": {
    "collapsed": true
   },
   "outputs": [],
   "source": [
    "n1 = Node(8)"
   ]
  },
  {
   "cell_type": "code",
   "execution_count": 28,
   "metadata": {
    "collapsed": true
   },
   "outputs": [],
   "source": [
    "bst.wrapperAddNodeToBST(n1)"
   ]
  },
  {
   "cell_type": "code",
   "execution_count": 29,
   "metadata": {
    "collapsed": true
   },
   "outputs": [],
   "source": [
    "n2 = Node(2)"
   ]
  },
  {
   "cell_type": "code",
   "execution_count": 30,
   "metadata": {
    "collapsed": false
   },
   "outputs": [
    {
     "name": "stdout",
     "output_type": "stream",
     "text": [
      "Called left node\n"
     ]
    }
   ],
   "source": [
    "bst.wrapperAddNodeToBST(n2)"
   ]
  },
  {
   "cell_type": "code",
   "execution_count": 31,
   "metadata": {
    "collapsed": false
   },
   "outputs": [],
   "source": [
    "n3 = Node(9)"
   ]
  },
  {
   "cell_type": "code",
   "execution_count": 32,
   "metadata": {
    "collapsed": false
   },
   "outputs": [
    {
     "name": "stdout",
     "output_type": "stream",
     "text": [
      "Called right node\n"
     ]
    }
   ],
   "source": [
    "bst.wrapperAddNodeToBST(n3)"
   ]
  },
  {
   "cell_type": "code",
   "execution_count": 33,
   "metadata": {
    "collapsed": true
   },
   "outputs": [],
   "source": [
    "n4 = Node(10)"
   ]
  },
  {
   "cell_type": "code",
   "execution_count": 34,
   "metadata": {
    "collapsed": false
   },
   "outputs": [
    {
     "name": "stdout",
     "output_type": "stream",
     "text": [
      "Called right node\n",
      "Called right node\n"
     ]
    }
   ],
   "source": [
    "bst.wrapperAddNodeToBST(n4)"
   ]
  },
  {
   "cell_type": "code",
   "execution_count": 35,
   "metadata": {
    "collapsed": true
   },
   "outputs": [],
   "source": [
    "n5 = Node(1)"
   ]
  },
  {
   "cell_type": "code",
   "execution_count": 36,
   "metadata": {
    "collapsed": false
   },
   "outputs": [
    {
     "name": "stdout",
     "output_type": "stream",
     "text": [
      "Called left node\n",
      "Called left node\n"
     ]
    }
   ],
   "source": [
    "bst.wrapperAddNodeToBST(n5)"
   ]
  },
  {
   "cell_type": "code",
   "execution_count": 37,
   "metadata": {
    "collapsed": true
   },
   "outputs": [],
   "source": [
    "n6 = Node(6)"
   ]
  },
  {
   "cell_type": "code",
   "execution_count": 38,
   "metadata": {
    "collapsed": false
   },
   "outputs": [
    {
     "name": "stdout",
     "output_type": "stream",
     "text": [
      "Called left node\n",
      "Called right node\n"
     ]
    }
   ],
   "source": [
    "bst.wrapperAddNodeToBST(n6)"
   ]
  },
  {
   "cell_type": "code",
   "execution_count": 39,
   "metadata": {
    "collapsed": true
   },
   "outputs": [],
   "source": [
    "n7 = Node(0)"
   ]
  },
  {
   "cell_type": "code",
   "execution_count": 40,
   "metadata": {
    "collapsed": false
   },
   "outputs": [
    {
     "name": "stdout",
     "output_type": "stream",
     "text": [
      "Called left node\n",
      "Called left node\n",
      "Called left node\n"
     ]
    }
   ],
   "source": [
    "bst.wrapperAddNodeToBST(n7)"
   ]
  },
  {
   "cell_type": "code",
   "execution_count": 41,
   "metadata": {
    "collapsed": true
   },
   "outputs": [],
   "source": [
    "# n8 = Node(10)"
   ]
  },
  {
   "cell_type": "code",
   "execution_count": 42,
   "metadata": {
    "collapsed": false
   },
   "outputs": [],
   "source": [
    "# bst.wrapperAddNodeToBST(n8)"
   ]
  },
  {
   "cell_type": "code",
   "execution_count": 43,
   "metadata": {
    "collapsed": false
   },
   "outputs": [
    {
     "name": "stdout",
     "output_type": "stream",
     "text": [
      "8\n",
      "2\n",
      "1\n",
      "0\n",
      "6\n",
      "9\n",
      "10\n"
     ]
    }
   ],
   "source": [
    "bst.wrapperPrintBST('preorder')"
   ]
  },
  {
   "cell_type": "code",
   "execution_count": 44,
   "metadata": {
    "collapsed": false
   },
   "outputs": [
    {
     "name": "stdout",
     "output_type": "stream",
     "text": [
      "0\n",
      "1\n",
      "2\n",
      "6\n",
      "8\n",
      "9\n",
      "10\n"
     ]
    }
   ],
   "source": [
    "bst.wrapperPrintBST('inorder')"
   ]
  },
  {
   "cell_type": "code",
   "execution_count": 45,
   "metadata": {
    "collapsed": false
   },
   "outputs": [
    {
     "name": "stdout",
     "output_type": "stream",
     "text": [
      "0\n",
      "1\n",
      "2\n",
      "6\n",
      "9\n",
      "10\n",
      "8\n"
     ]
    }
   ],
   "source": [
    "bst.wrapperPrintBST('postorder')"
   ]
  },
  {
   "cell_type": "code",
   "execution_count": 46,
   "metadata": {
    "collapsed": false
   },
   "outputs": [
    {
     "data": {
      "text/plain": [
       "10"
      ]
     },
     "execution_count": 46,
     "metadata": {},
     "output_type": "execute_result"
    }
   ],
   "source": [
    "bst.wrapperFindMax()"
   ]
  },
  {
   "cell_type": "code",
   "execution_count": null,
   "metadata": {
    "collapsed": true
   },
   "outputs": [],
   "source": []
  }
 ],
 "metadata": {
  "kernelspec": {
   "display_name": "Python 2",
   "language": "python",
   "name": "python2"
  },
  "language_info": {
   "codemirror_mode": {
    "name": "ipython",
    "version": 2
   },
   "file_extension": ".py",
   "mimetype": "text/x-python",
   "name": "python",
   "nbconvert_exporter": "python",
   "pygments_lexer": "ipython2",
   "version": "2.7.12"
  }
 },
 "nbformat": 4,
 "nbformat_minor": 1
}
