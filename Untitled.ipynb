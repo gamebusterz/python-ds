{
 "cells": [
  {
   "cell_type": "code",
   "execution_count": 1,
   "metadata": {
    "collapsed": false
   },
   "outputs": [
    {
     "name": "stdout",
     "output_type": "stream",
     "text": [
      "Count of nodes is : 5\n"
     ]
    }
   ],
   "source": [
    "# A complete working Python program to find length of a\n",
    "# Linked List recursively\n",
    " \n",
    "# Node class\n",
    "class Node:\n",
    "    # Function to initialise the node object\n",
    "    def __init__(self, data):\n",
    "        self.data = data  # Assign data\n",
    "        self.next = None  # Initialize next as null\n",
    " \n",
    " \n",
    "# Linked List class contains a Node object\n",
    "class LinkedList:\n",
    " \n",
    "    # Function to initialize head\n",
    "    def __init__(self):\n",
    "        self.head = None\n",
    " \n",
    " \n",
    "    # This function is in LinkedList class. It inserts\n",
    "    # a new node at the beginning of Linked List.\n",
    "    def push(self, new_data):\n",
    " \n",
    "        # 1 & 2: Allocate the Node &\n",
    "        #        Put in the data\n",
    "        new_node = Node(new_data)\n",
    " \n",
    "        # 3. Make next of new Node as head\n",
    "        new_node.next = self.head\n",
    " \n",
    "        # 4. Move the head to point to new Node\n",
    "        self.head = new_node\n",
    " \n",
    "    # This function counts number of nodes in Linked List\n",
    "    # recursively, given 'node' as starting node.\n",
    "    def getCountRec(self, node):\n",
    "        if (not node): # Base case\n",
    "            return 0\n",
    "        else:\n",
    "            return 1 + self.getCountRec(node.next)\n",
    " \n",
    "    # A wrapper over getCountRec()\n",
    "    def getCount(self):\n",
    "       return self.getCountRec(self.head)\n",
    " \n",
    "# Code execution starts here\n",
    "if __name__=='__main__':\n",
    "    llist = LinkedList()\n",
    "    llist.push(1)\n",
    "    llist.push(3)\n",
    "    llist.push(1)\n",
    "    llist.push(2)\n",
    "    llist.push(1)\n",
    "    print 'Count of nodes is :',llist.getCount()"
   ]
  },
  {
   "cell_type": "code",
   "execution_count": null,
   "metadata": {
    "collapsed": true
   },
   "outputs": [],
   "source": []
  }
 ],
 "metadata": {
  "kernelspec": {
   "display_name": "Python 2",
   "language": "python",
   "name": "python2"
  },
  "language_info": {
   "codemirror_mode": {
    "name": "ipython",
    "version": 2
   },
   "file_extension": ".py",
   "mimetype": "text/x-python",
   "name": "python",
   "nbconvert_exporter": "python",
   "pygments_lexer": "ipython2",
   "version": "2.7.12"
  }
 },
 "nbformat": 4,
 "nbformat_minor": 1
}
